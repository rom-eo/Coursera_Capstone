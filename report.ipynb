{
 "cells": [
  {
   "cell_type": "markdown",
   "metadata": {},
   "source": [
    "# Clustering of Neighborhoods in Washington D.C."
   ]
  },
  {
   "cell_type": "markdown",
   "metadata": {},
   "source": [
    "## Table of Content\n",
    "1. <a href=\"#item1\">Introduction</a>\n",
    "2. <a href=\"#item2\">Data</a>"
   ]
  },
  {
   "cell_type": "markdown",
   "metadata": {},
   "source": [
    "## 1. Introduction/Business Problem"
   ]
  },
  {
   "cell_type": "markdown",
   "metadata": {},
   "source": [
    "### Problem\n",
    "The problem we address is to known which zip code in Washington D.C. share the same features.\n",
    "In this project, we will leverage the Foursquare location data to compare neighborhood in Washington D.C. \n",
    "### Goal\n",
    "The goal of the project is to cluster zip codes that are similar in features. \n",
    "### How may be interested\n",
    "This clustering will be useful for someone that wants to relocate in Washington D.C. The user will then have the option to chose which zip code has similar features as the one (s)he likes and is the closest to the point (s)he wants to relocate to.\n"
   ]
  },
  {
   "cell_type": "markdown",
   "metadata": {},
   "source": [
    "## 2. Data"
   ]
  },
  {
   "cell_type": "markdown",
   "metadata": {},
   "source": [
    "In this section, we give a description of the Data and its use to solve the business problem at hand.\n",
    "### Desciption of the Data\n",
    "Our data comes from three different sources. \n",
    "\n",
    "#### First Source\n",
    "First,we obtained geographical coordinates of all zip codes in the US. We use this webpage: https://gist.github.com/erichurst/7882666 \n",
    "#### Second Source\n",
    "The second source consist of all \n",
    "zip that are located in Washington D.C. We use this webpage: https://www.zillow.com/browse/homes/dc/district-of-columbia-county/\n",
    "#### Third source\n",
    "The third source of data is provided by the API of Foursquare.\n",
    "We use the API of Foursquare to fetch data related to venues around the coordinates of the zip code. \n",
    "\n",
    "### How we will use the Data\n",
    "We intent to analyse the most common venues around each zip code and perform clustering on this data set. This will give us an idea of which neighborhood are similar."
   ]
  },
  {
   "cell_type": "code",
   "execution_count": null,
   "metadata": {},
   "outputs": [],
   "source": []
  }
 ],
 "metadata": {
  "kernelspec": {
   "display_name": "Python 3",
   "language": "python",
   "name": "python3"
  },
  "language_info": {
   "codemirror_mode": {
    "name": "ipython",
    "version": 3
   },
   "file_extension": ".py",
   "mimetype": "text/x-python",
   "name": "python",
   "nbconvert_exporter": "python",
   "pygments_lexer": "ipython3",
   "version": "3.7.3"
  }
 },
 "nbformat": 4,
 "nbformat_minor": 2
}
