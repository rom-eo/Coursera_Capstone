{
 "cells": [
  {
   "cell_type": "markdown",
   "metadata": {},
   "source": [
    "# Clustering of Neighborhoods in Washington D.C."
   ]
  },
  {
   "cell_type": "markdown",
   "metadata": {},
   "source": [
    "## Table of Content\n",
    "1. <a href=\"#item1\">Introduction</a>\n",
    "2. <a href=\"#item2\">Data</a>\n",
    "3. <a href=\"#item3\">Methodology</a>\n",
    "4. <a href=\"#item4\">Results</a>\n",
    "5. <a href=\"#item5\">Discussion</a>\n",
    "6. <a href=\"#item6\">Conclusion</a>"
   ]
  },
  {
   "cell_type": "markdown",
   "metadata": {},
   "source": [
    "## 1. Introduction/Business Problem"
   ]
  },
  {
   "cell_type": "markdown",
   "metadata": {},
   "source": [
    "### Problem\n",
    "The problem we address is to known which zip code in Washington D.C. share the same features.\n",
    "In this project, we will leverage the Foursquare location data to compare neighborhood in Washington D.C. \n",
    "### Goal\n",
    "The goal of the project is to cluster zip codes that are similar in features. \n",
    "### How may be interested, target audience  and who would care about this problem\n",
    "This project will be useful for someone that wants to relocate in Washington D.C. The user will then have the option to chose which zip code has similar features as the one (s)he likes and is the closest to the point (s)he wants to relocate to.\n"
   ]
  },
  {
   "cell_type": "markdown",
   "metadata": {},
   "source": [
    "## 2. Data"
   ]
  },
  {
   "cell_type": "markdown",
   "metadata": {},
   "source": [
    "In this section, we give a description of the Data and its use to solve the business problem at hand.\n",
    "### Desciption of the Data\n",
    "Our data comes from three different sources. \n",
    "\n",
    "#### First Source\n",
    "First, we obtained geographical coordinates of all zip codes in the US. We use this webpage: https://gist.github.com/erichurst/7882666 \n",
    "This data is made of the following columns:\n",
    "\n",
    "| Zip codes | Latitude | Longitude |\n",
    "|-----------|----------|-----------|\n",
    "|           |          |            |\n",
    "\n",
    "The table gives the GPS coordinates of each zip code\n",
    "#### Second Source\n",
    "The second source consist of all \n",
    "zip that are located in Washington D.C. We use this webpage: https://www.zillow.com/browse/homes/dc/district-of-columbia-county/\n",
    "The structure of the Data is:\n",
    "\n",
    "| Zip Codes |\n",
    "|-----------|\n",
    "\n",
    "The table will give all zip codes in Washington D.C.\n",
    "#### Third source\n",
    "The third source of data is provided by the API of Foursquare.\n",
    "We use the API of Foursquare to fetch data related to venues around the coordinates of the zip code. We will mostly use\n",
    "the following fields:\n",
    "1. The venue's name : The name of the place\n",
    "2. The venue's location latitude: The latitude of the place\n",
    "3. The venue's location longitude: The longitude of the place\n",
    "4. The venue's categories: This field gives us the type of the venue (restaurant, bar, fast-food\n",
    "\n",
    "### How we will use the Data\n",
    "We intent to analyse the most common venues around each zip code and perform clustering on this data set. This will give us an idea of which neighborhood are similar."
   ]
  },
  {
   "cell_type": "markdown",
   "metadata": {},
   "source": [
    "### The Preprocessed and cleaned Data Set"
   ]
  },
  {
   "cell_type": "markdown",
   "metadata": {},
   "source": [
    "After preprocessing and cleaning, we obtain the following Data set. The fields are as follows:\n",
    "\n",
    "1. Neighborhood: This is a zip code in Washington D.C. \n",
    "2. Neighborhood Latitude : The latitude of the zip code\n",
    "3. Neighborhood Longitude : The longitude of the zip code\n",
    "3. Venue: The name of the venue\n",
    "4. Venue Latitude \t\n",
    "5. Venue Longitude \t\n",
    "6. Venue Category: This will mainly be used to determine how similar two neighborhoods are. "
   ]
  },
  {
   "cell_type": "code",
   "execution_count": 1,
   "metadata": {},
   "outputs": [
    {
     "data": {
      "text/html": [
       "<div>\n",
       "<style scoped>\n",
       "    .dataframe tbody tr th:only-of-type {\n",
       "        vertical-align: middle;\n",
       "    }\n",
       "\n",
       "    .dataframe tbody tr th {\n",
       "        vertical-align: top;\n",
       "    }\n",
       "\n",
       "    .dataframe thead th {\n",
       "        text-align: right;\n",
       "    }\n",
       "</style>\n",
       "<table border=\"1\" class=\"dataframe\">\n",
       "  <thead>\n",
       "    <tr style=\"text-align: right;\">\n",
       "      <th></th>\n",
       "      <th>Unnamed: 0</th>\n",
       "      <th>Neighborhood</th>\n",
       "      <th>Neighborhood Latitude</th>\n",
       "      <th>Neighborhood Longitude</th>\n",
       "      <th>Venue</th>\n",
       "      <th>Venue Latitude</th>\n",
       "      <th>Venue Longitude</th>\n",
       "      <th>Venue Category</th>\n",
       "    </tr>\n",
       "  </thead>\n",
       "  <tbody>\n",
       "    <tr>\n",
       "      <th>0</th>\n",
       "      <td>0</td>\n",
       "      <td>20064</td>\n",
       "      <td>38.936354</td>\n",
       "      <td>-76.999167</td>\n",
       "      <td>&amp;pizza</td>\n",
       "      <td>38.932582</td>\n",
       "      <td>-76.996696</td>\n",
       "      <td>Pizza Place</td>\n",
       "    </tr>\n",
       "    <tr>\n",
       "      <th>1</th>\n",
       "      <td>1</td>\n",
       "      <td>20064</td>\n",
       "      <td>38.936354</td>\n",
       "      <td>-76.999167</td>\n",
       "      <td>Chick-fil-A</td>\n",
       "      <td>38.935476</td>\n",
       "      <td>-76.998198</td>\n",
       "      <td>Food Service</td>\n",
       "    </tr>\n",
       "    <tr>\n",
       "      <th>2</th>\n",
       "      <td>2</td>\n",
       "      <td>20064</td>\n",
       "      <td>38.936354</td>\n",
       "      <td>-76.999167</td>\n",
       "      <td>Busboys and Poets</td>\n",
       "      <td>38.932117</td>\n",
       "      <td>-76.997640</td>\n",
       "      <td>American Restaurant</td>\n",
       "    </tr>\n",
       "    <tr>\n",
       "      <th>3</th>\n",
       "      <td>3</td>\n",
       "      <td>20064</td>\n",
       "      <td>38.936354</td>\n",
       "      <td>-76.999167</td>\n",
       "      <td>Starbucks Reserve</td>\n",
       "      <td>38.932484</td>\n",
       "      <td>-76.997172</td>\n",
       "      <td>Coffee Shop</td>\n",
       "    </tr>\n",
       "    <tr>\n",
       "      <th>4</th>\n",
       "      <td>4</td>\n",
       "      <td>20064</td>\n",
       "      <td>38.936354</td>\n",
       "      <td>-76.999167</td>\n",
       "      <td>BGR Burgers Grilled Right</td>\n",
       "      <td>38.932647</td>\n",
       "      <td>-76.996740</td>\n",
       "      <td>Burger Joint</td>\n",
       "    </tr>\n",
       "  </tbody>\n",
       "</table>\n",
       "</div>"
      ],
      "text/plain": [
       "   Unnamed: 0  Neighborhood  Neighborhood Latitude  Neighborhood Longitude  \\\n",
       "0           0         20064              38.936354              -76.999167   \n",
       "1           1         20064              38.936354              -76.999167   \n",
       "2           2         20064              38.936354              -76.999167   \n",
       "3           3         20064              38.936354              -76.999167   \n",
       "4           4         20064              38.936354              -76.999167   \n",
       "\n",
       "                       Venue  Venue Latitude  Venue Longitude  \\\n",
       "0                     &pizza       38.932582       -76.996696   \n",
       "1                Chick-fil-A       38.935476       -76.998198   \n",
       "2          Busboys and Poets       38.932117       -76.997640   \n",
       "3          Starbucks Reserve       38.932484       -76.997172   \n",
       "4  BGR Burgers Grilled Right       38.932647       -76.996740   \n",
       "\n",
       "        Venue Category  \n",
       "0          Pizza Place  \n",
       "1         Food Service  \n",
       "2  American Restaurant  \n",
       "3          Coffee Shop  \n",
       "4         Burger Joint  "
      ]
     },
     "execution_count": 1,
     "metadata": {},
     "output_type": "execute_result"
    }
   ],
   "source": [
    "import pandas as pd\n",
    "pd.read_csv('venues_df').head()"
   ]
  },
  {
   "cell_type": "markdown",
   "metadata": {},
   "source": [
    "## 3. Methodology "
   ]
  },
  {
   "cell_type": "markdown",
   "metadata": {},
   "source": [
    "### Exploratory Data Analysis.\n"
   ]
  },
  {
   "cell_type": "markdown",
   "metadata": {},
   "source": [
    "Let us first see which types of venues are the most common in Washington D.C."
   ]
  },
  {
   "cell_type": "code",
   "execution_count": 2,
   "metadata": {},
   "outputs": [
    {
     "data": {
      "text/html": [
       "<div>\n",
       "<style scoped>\n",
       "    .dataframe tbody tr th:only-of-type {\n",
       "        vertical-align: middle;\n",
       "    }\n",
       "\n",
       "    .dataframe tbody tr th {\n",
       "        vertical-align: top;\n",
       "    }\n",
       "\n",
       "    .dataframe thead th {\n",
       "        text-align: right;\n",
       "    }\n",
       "</style>\n",
       "<table border=\"1\" class=\"dataframe\">\n",
       "  <thead>\n",
       "    <tr style=\"text-align: right;\">\n",
       "      <th></th>\n",
       "      <th>Unnamed: 0</th>\n",
       "      <th>Frequency</th>\n",
       "    </tr>\n",
       "  </thead>\n",
       "  <tbody>\n",
       "    <tr>\n",
       "      <th>0</th>\n",
       "      <td>Park</td>\n",
       "      <td>1.332066</td>\n",
       "    </tr>\n",
       "    <tr>\n",
       "      <th>1</th>\n",
       "      <td>Coffee Shop</td>\n",
       "      <td>1.071133</td>\n",
       "    </tr>\n",
       "    <tr>\n",
       "      <th>2</th>\n",
       "      <td>Sandwich Place</td>\n",
       "      <td>0.972823</td>\n",
       "    </tr>\n",
       "    <tr>\n",
       "      <th>3</th>\n",
       "      <td>American Restaurant</td>\n",
       "      <td>0.844335</td>\n",
       "    </tr>\n",
       "    <tr>\n",
       "      <th>4</th>\n",
       "      <td>Convenience Store</td>\n",
       "      <td>0.841558</td>\n",
       "    </tr>\n",
       "    <tr>\n",
       "      <th>5</th>\n",
       "      <td>Harbor / Marina</td>\n",
       "      <td>0.752828</td>\n",
       "    </tr>\n",
       "    <tr>\n",
       "      <th>6</th>\n",
       "      <td>Hotel</td>\n",
       "      <td>0.734662</td>\n",
       "    </tr>\n",
       "    <tr>\n",
       "      <th>7</th>\n",
       "      <td>Pizza Place</td>\n",
       "      <td>0.726810</td>\n",
       "    </tr>\n",
       "    <tr>\n",
       "      <th>8</th>\n",
       "      <td>Gym</td>\n",
       "      <td>0.680204</td>\n",
       "    </tr>\n",
       "    <tr>\n",
       "      <th>9</th>\n",
       "      <td>Boat or Ferry</td>\n",
       "      <td>0.622205</td>\n",
       "    </tr>\n",
       "  </tbody>\n",
       "</table>\n",
       "</div>"
      ],
      "text/plain": [
       "            Unnamed: 0  Frequency\n",
       "0                 Park   1.332066\n",
       "1          Coffee Shop   1.071133\n",
       "2       Sandwich Place   0.972823\n",
       "3  American Restaurant   0.844335\n",
       "4    Convenience Store   0.841558\n",
       "5      Harbor / Marina   0.752828\n",
       "6                Hotel   0.734662\n",
       "7          Pizza Place   0.726810\n",
       "8                  Gym   0.680204\n",
       "9        Boat or Ferry   0.622205"
      ]
     },
     "execution_count": 2,
     "metadata": {},
     "output_type": "execute_result"
    }
   ],
   "source": [
    "pd.read_csv(\"df_most_common.cvs\").head(10)"
   ]
  },
  {
   "cell_type": "markdown",
   "metadata": {},
   "source": [
    "We now figure out which venues are the most popular in each neighborhood."
   ]
  },
  {
   "cell_type": "code",
   "execution_count": 3,
   "metadata": {
    "scrolled": false
   },
   "outputs": [
    {
     "data": {
      "text/html": [
       "<div>\n",
       "<style scoped>\n",
       "    .dataframe tbody tr th:only-of-type {\n",
       "        vertical-align: middle;\n",
       "    }\n",
       "\n",
       "    .dataframe tbody tr th {\n",
       "        vertical-align: top;\n",
       "    }\n",
       "\n",
       "    .dataframe thead th {\n",
       "        text-align: right;\n",
       "    }\n",
       "</style>\n",
       "<table border=\"1\" class=\"dataframe\">\n",
       "  <thead>\n",
       "    <tr style=\"text-align: right;\">\n",
       "      <th></th>\n",
       "      <th>Unnamed: 0</th>\n",
       "      <th>Neighborhood</th>\n",
       "      <th>1st Most Common Venue</th>\n",
       "      <th>2nd Most Common Venue</th>\n",
       "      <th>3rd Most Common Venue</th>\n",
       "      <th>4th Most Common Venue</th>\n",
       "      <th>5th Most Common Venue</th>\n",
       "      <th>6th Most Common Venue</th>\n",
       "      <th>7th Most Common Venue</th>\n",
       "      <th>8th Most Common Venue</th>\n",
       "      <th>9th Most Common Venue</th>\n",
       "      <th>10th Most Common Venue</th>\n",
       "    </tr>\n",
       "  </thead>\n",
       "  <tbody>\n",
       "    <tr>\n",
       "      <th>0</th>\n",
       "      <td>0</td>\n",
       "      <td>20001</td>\n",
       "      <td>Thai Restaurant</td>\n",
       "      <td>Liquor Store</td>\n",
       "      <td>BBQ Joint</td>\n",
       "      <td>Grocery Store</td>\n",
       "      <td>Bookstore</td>\n",
       "      <td>Market</td>\n",
       "      <td>Building</td>\n",
       "      <td>Spanish Restaurant</td>\n",
       "      <td>Middle Eastern Restaurant</td>\n",
       "      <td>Gas Station</td>\n",
       "    </tr>\n",
       "    <tr>\n",
       "      <th>1</th>\n",
       "      <td>1</td>\n",
       "      <td>20002</td>\n",
       "      <td>American Restaurant</td>\n",
       "      <td>Bar</td>\n",
       "      <td>Gym</td>\n",
       "      <td>Moving Target</td>\n",
       "      <td>New American Restaurant</td>\n",
       "      <td>Park</td>\n",
       "      <td>Pharmacy</td>\n",
       "      <td>Diner</td>\n",
       "      <td>Convenience Store</td>\n",
       "      <td>Sandwich Place</td>\n",
       "    </tr>\n",
       "    <tr>\n",
       "      <th>2</th>\n",
       "      <td>2</td>\n",
       "      <td>20003</td>\n",
       "      <td>Pizza Place</td>\n",
       "      <td>Bar</td>\n",
       "      <td>Coffee Shop</td>\n",
       "      <td>Art Gallery</td>\n",
       "      <td>Gym / Fitness Center</td>\n",
       "      <td>Bakery</td>\n",
       "      <td>Sandwich Place</td>\n",
       "      <td>Spa</td>\n",
       "      <td>Mobile Phone Shop</td>\n",
       "      <td>Pet Store</td>\n",
       "    </tr>\n",
       "    <tr>\n",
       "      <th>3</th>\n",
       "      <td>3</td>\n",
       "      <td>20004</td>\n",
       "      <td>Hotel</td>\n",
       "      <td>Science Museum</td>\n",
       "      <td>History Museum</td>\n",
       "      <td>Exhibit</td>\n",
       "      <td>American Restaurant</td>\n",
       "      <td>Food Truck</td>\n",
       "      <td>Museum</td>\n",
       "      <td>Coffee Shop</td>\n",
       "      <td>Bakery</td>\n",
       "      <td>Sandwich Place</td>\n",
       "    </tr>\n",
       "    <tr>\n",
       "      <th>4</th>\n",
       "      <td>4</td>\n",
       "      <td>20005</td>\n",
       "      <td>Hotel</td>\n",
       "      <td>Hotel Bar</td>\n",
       "      <td>Coffee Shop</td>\n",
       "      <td>American Restaurant</td>\n",
       "      <td>Salon / Barbershop</td>\n",
       "      <td>Latin American Restaurant</td>\n",
       "      <td>Sandwich Place</td>\n",
       "      <td>Sushi Restaurant</td>\n",
       "      <td>New American Restaurant</td>\n",
       "      <td>Deli / Bodega</td>\n",
       "    </tr>\n",
       "  </tbody>\n",
       "</table>\n",
       "</div>"
      ],
      "text/plain": [
       "   Unnamed: 0  Neighborhood 1st Most Common Venue 2nd Most Common Venue  \\\n",
       "0           0         20001       Thai Restaurant          Liquor Store   \n",
       "1           1         20002   American Restaurant                   Bar   \n",
       "2           2         20003           Pizza Place                   Bar   \n",
       "3           3         20004                 Hotel        Science Museum   \n",
       "4           4         20005                 Hotel             Hotel Bar   \n",
       "\n",
       "  3rd Most Common Venue 4th Most Common Venue    5th Most Common Venue  \\\n",
       "0             BBQ Joint         Grocery Store                Bookstore   \n",
       "1                   Gym         Moving Target  New American Restaurant   \n",
       "2           Coffee Shop           Art Gallery     Gym / Fitness Center   \n",
       "3        History Museum               Exhibit      American Restaurant   \n",
       "4           Coffee Shop   American Restaurant       Salon / Barbershop   \n",
       "\n",
       "       6th Most Common Venue 7th Most Common Venue 8th Most Common Venue  \\\n",
       "0                     Market              Building    Spanish Restaurant   \n",
       "1                       Park              Pharmacy                 Diner   \n",
       "2                     Bakery        Sandwich Place                   Spa   \n",
       "3                 Food Truck                Museum           Coffee Shop   \n",
       "4  Latin American Restaurant        Sandwich Place      Sushi Restaurant   \n",
       "\n",
       "       9th Most Common Venue 10th Most Common Venue  \n",
       "0  Middle Eastern Restaurant            Gas Station  \n",
       "1          Convenience Store         Sandwich Place  \n",
       "2          Mobile Phone Shop              Pet Store  \n",
       "3                     Bakery         Sandwich Place  \n",
       "4    New American Restaurant          Deli / Bodega  "
      ]
     },
     "execution_count": 3,
     "metadata": {},
     "output_type": "execute_result"
    }
   ],
   "source": [
    "pd.read_csv(\"neighborhoods_venues_sorted.csv\").head()"
   ]
  },
  {
   "cell_type": "markdown",
   "metadata": {},
   "source": [
    "### Machine Learning\n",
    "In this project, we want to find neighborhoods with the same fitures. We want to see which group of zip codes could be put in the same cluster. This is why we decided to use  a k-means clustering algorithm. We will be using the different venues as componnents of a 237 columns vector. After experimenting with different values of k, the number of clusters, we found that 4 clusters is optimal."
   ]
  },
  {
   "cell_type": "markdown",
   "metadata": {},
   "source": [
    "![image](map.png)"
   ]
  },
  {
   "cell_type": "markdown",
   "metadata": {},
   "source": [
    "## 4. Results"
   ]
  },
  {
   "cell_type": "markdown",
   "metadata": {},
   "source": [
    "In this section, we discuss the results of the project. We were able throughout this project to cluster the neighborhoods in Washington D.C. in four clusters. Our final deliverable gives the option to the user to enter the zip code (s)he is moving from, the zip code (s)he is planning to move to. Then we recommend a zip code to the user based on which zip code is the nearest zip code to the target zip code that is also in of the same type (in the same cluster ) as the original zip code. \n",
    "\n",
    "Our clusters are as follows:\n",
    "\n",
    "* Custer No 1: 20064, 20319, 20373, 20593, 20390, 20003, 20002, 20005, 20004, 20007, 20009, 20008, 20016, 20015, 20018, 20017, 20020, 20019, 20024, 20032, 20052, 20057, 20510\n",
    "* Custer No 2: 20036\n",
    "* Custer No 4: 20006\n",
    "* Custer No 3: 20317, 20001, 20011, 20010, 20012, 20037, 20202\n",
    "\n",
    "We learned along side that the most common venues in Washington D.C. are \n",
    "\n",
    "1. Park \t\n",
    "2. Coffee Shop \n",
    "3. Sandwich Place\n",
    "4. American Restaurant\n",
    "5. Convenience Store  \n",
    "6. \tHarbor / Marina \t \n",
    "7. \tHotel \t \n",
    "8. \tPizza Place  \n",
    "9. \tGym \t \n",
    "10. \tBoat or Ferry"
   ]
  },
  {
   "cell_type": "markdown",
   "metadata": {},
   "source": [
    "## 5. Discussion"
   ]
  },
  {
   "cell_type": "markdown",
   "metadata": {},
   "source": [
    "In this section, we discuss some observations we noted. It turns out that most neighborhood may be grouped in two groups.  We have two neighborhoods that do have  unique features. The first is the one around the World Bank. The second is the the neighborhood near Dupond Circle. The third cluster happens to be  a band between Georgia Avenue and 16th Street. The fourth cluster, which is by far the largest, is all over the place.\n",
    "\n",
    "The recommendations we can make based on the results require that we obtain the outbound zip code and the inbound zip code from the user."
   ]
  },
  {
   "cell_type": "markdown",
   "metadata": {},
   "source": [
    "## 6. Conclusion"
   ]
  },
  {
   "cell_type": "markdown",
   "metadata": {},
   "source": [
    "Througout this project, we obtained a segmentation of Washington D.C. in four clusters. This segmentation was based on most common venues in each neighborhood. Our projects gives the option to the user to enter the zip code (s)he is moving from, the zip code (s)he is planning to move to. Then we recommand a zip code to the user based on which zip code is the nearest zip code to the target zip code that is also in of the same type (in the same cluster ) as the original zip code. "
   ]
  }
 ],
 "metadata": {
  "kernelspec": {
   "display_name": "Python 3",
   "language": "python",
   "name": "python3"
  },
  "language_info": {
   "codemirror_mode": {
    "name": "ipython",
    "version": 3
   },
   "file_extension": ".py",
   "mimetype": "text/x-python",
   "name": "python",
   "nbconvert_exporter": "python",
   "pygments_lexer": "ipython3",
   "version": "3.7.3"
  }
 },
 "nbformat": 4,
 "nbformat_minor": 2
}
